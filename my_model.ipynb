{
 "cells": [
  {
   "cell_type": "code",
   "execution_count": 4,
   "id": "cd348558",
   "metadata": {
    "scrolled": true
   },
   "outputs": [
    {
     "name": "stdout",
     "output_type": "stream",
     "text": [
      "Epoch 1/10\n",
      "1250/1250 [==============================] - 45s 34ms/step - loss: 1.8104 - accuracy: 0.3341 - val_loss: 1.5892 - val_accuracy: 0.4298\n",
      "Epoch 2/10\n",
      "1250/1250 [==============================] - 42s 34ms/step - loss: 1.5568 - accuracy: 0.4395 - val_loss: 1.4239 - val_accuracy: 0.4952\n",
      "Epoch 3/10\n",
      "1250/1250 [==============================] - 45s 36ms/step - loss: 1.4592 - accuracy: 0.4772 - val_loss: 1.3328 - val_accuracy: 0.5226\n",
      "Epoch 4/10\n",
      "1250/1250 [==============================] - 43s 34ms/step - loss: 1.3777 - accuracy: 0.5088 - val_loss: 1.3030 - val_accuracy: 0.5374\n",
      "Epoch 5/10\n",
      "1250/1250 [==============================] - 41s 33ms/step - loss: 1.3243 - accuracy: 0.5253 - val_loss: 1.2226 - val_accuracy: 0.5767\n",
      "Epoch 6/10\n",
      "1250/1250 [==============================] - 40s 32ms/step - loss: 1.2698 - accuracy: 0.5464 - val_loss: 1.1818 - val_accuracy: 0.5838\n",
      "Epoch 7/10\n",
      "1250/1250 [==============================] - 37s 30ms/step - loss: 1.2341 - accuracy: 0.5602 - val_loss: 1.1620 - val_accuracy: 0.5876\n",
      "Epoch 8/10\n",
      "1250/1250 [==============================] - 37s 30ms/step - loss: 1.2016 - accuracy: 0.5732 - val_loss: 1.1128 - val_accuracy: 0.6078\n",
      "Epoch 9/10\n",
      "1250/1250 [==============================] - 34s 27ms/step - loss: 1.1788 - accuracy: 0.5829 - val_loss: 1.3425 - val_accuracy: 0.5327\n",
      "Epoch 10/10\n",
      "1250/1250 [==============================] - 36s 28ms/step - loss: 1.1524 - accuracy: 0.5905 - val_loss: 1.1197 - val_accuracy: 0.6030\n",
      "313/313 [==============================] - 2s 7ms/step - loss: 1.1119 - accuracy: 0.6022\n",
      "Test Accuracy: 0.6021999716758728\n"
     ]
    }
   ],
   "source": [
    "# Import necessary libraries\n",
    "import tensorflow as tf\n",
    "from tensorflow.keras import layers, models\n",
    "from tensorflow.keras.datasets import cifar10\n",
    "from tensorflow.keras.utils import to_categorical\n",
    "from sklearn.model_selection import train_test_split\n",
    "\n",
    "# Load and preprocess the CIFAR-10 dataset\n",
    "(x_train, y_train), (x_test, y_test) = cifar10.load_data()\n",
    "x_train, x_val, y_train, y_val = train_test_split(x_train, y_train, test_size=0.2, random_state=42)\n",
    "\n",
    "x_train = x_train.astype('float32') / 255.0\n",
    "x_val = x_val.astype('float32') / 255.0\n",
    "x_test = x_test.astype('float32') / 255.0\n",
    "\n",
    "y_train = to_categorical(y_train, 10)\n",
    "y_val = to_categorical(y_val, 10)\n",
    "y_test = to_categorical(y_test, 10)\n",
    "\n",
    "# Define data augmentation\n",
    "data_augmentation = tf.keras.Sequential([\n",
    "  layers.RandomFlip('horizontal'),\n",
    "  layers.RandomRotation(0.2),\n",
    "])\n",
    "\n",
    "# Build the CNN model architecture\n",
    "model = models.Sequential([\n",
    "  data_augmentation,\n",
    "  layers.Conv2D(32, (3, 3), activation='relu', input_shape=(32, 32, 3)),\n",
    "  layers.MaxPooling2D((2, 2)),\n",
    "  layers.Conv2D(64, (3, 3), activation='relu'),\n",
    "  layers.MaxPooling2D((2, 2)),\n",
    "  layers.Conv2D(64, (3, 3), activation='relu'),\n",
    "  layers.Flatten(),\n",
    "  layers.Dense(64, activation='relu'),\n",
    "  layers.Dense(10, activation='softmax')\n",
    "])\n",
    "\n",
    "# Compile the model\n",
    "model.compile(optimizer='adam', loss='categorical_crossentropy', metrics=['accuracy'])\n",
    "\n",
    "# Train the model\n",
    "model.fit(x_train, y_train, epochs=10, validation_data=(x_val, y_val))\n",
    "\n",
    "# Evaluate the model\n",
    "test_loss, test_acc = model.evaluate(x_test, y_test)\n",
    "print(f'Test Accuracy: {test_acc}')\n",
    "\n",
    "# Save the model\n",
    "model.save('model/my_mode.h5')"
   ]
  },
  {
   "cell_type": "code",
   "execution_count": null,
   "id": "2ce2ecff",
   "metadata": {},
   "outputs": [],
   "source": []
  }
 ],
 "metadata": {
  "kernelspec": {
   "display_name": "ML-KERNEL",
   "language": "python",
   "name": "ml-kernel"
  },
  "language_info": {
   "codemirror_mode": {
    "name": "ipython",
    "version": 3
   },
   "file_extension": ".py",
   "mimetype": "text/x-python",
   "name": "python",
   "nbconvert_exporter": "python",
   "pygments_lexer": "ipython3",
   "version": "3.11.4"
  }
 },
 "nbformat": 4,
 "nbformat_minor": 5
}
